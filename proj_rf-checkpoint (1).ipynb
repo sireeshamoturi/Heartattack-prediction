{
 "cells": [
  {
   "cell_type": "code",
   "execution_count": 580,
   "metadata": {},
   "outputs": [],
   "source": [
    "import numpy as np\n",
    "import pandas as pd\n",
    "from matplotlib.pyplot import *"
   ]
  },
  {
   "cell_type": "code",
   "execution_count": 581,
   "metadata": {},
   "outputs": [],
   "source": [
    "dataset=pd.read_csv('readmin.csv')"
   ]
  },
  {
   "cell_type": "code",
   "execution_count": 582,
   "metadata": {},
   "outputs": [
    {
     "data": {
      "text/html": [
       "<div>\n",
       "<style scoped>\n",
       "    .dataframe tbody tr th:only-of-type {\n",
       "        vertical-align: middle;\n",
       "    }\n",
       "\n",
       "    .dataframe tbody tr th {\n",
       "        vertical-align: top;\n",
       "    }\n",
       "\n",
       "    .dataframe thead th {\n",
       "        text-align: right;\n",
       "    }\n",
       "</style>\n",
       "<table border=\"1\" class=\"dataframe\">\n",
       "  <thead>\n",
       "    <tr style=\"text-align: right;\">\n",
       "      <th></th>\n",
       "      <th>age</th>\n",
       "      <th>sex</th>\n",
       "      <th>cp</th>\n",
       "      <th>trestbps</th>\n",
       "      <th>chol</th>\n",
       "      <th>fbs</th>\n",
       "      <th>restecg</th>\n",
       "      <th>thalach</th>\n",
       "      <th>exang</th>\n",
       "      <th>oldpeak</th>\n",
       "      <th>slope</th>\n",
       "      <th>ca</th>\n",
       "      <th>thal</th>\n",
       "      <th>time_in_hospital</th>\n",
       "      <th>number_inpatient</th>\n",
       "      <th>number_diagnoses</th>\n",
       "      <th>readmitted</th>\n",
       "    </tr>\n",
       "  </thead>\n",
       "  <tbody>\n",
       "    <tr>\n",
       "      <th>0</th>\n",
       "      <td>63</td>\n",
       "      <td>1</td>\n",
       "      <td>3</td>\n",
       "      <td>145</td>\n",
       "      <td>233</td>\n",
       "      <td>1</td>\n",
       "      <td>0</td>\n",
       "      <td>150</td>\n",
       "      <td>0</td>\n",
       "      <td>2.3</td>\n",
       "      <td>0</td>\n",
       "      <td>0</td>\n",
       "      <td>1</td>\n",
       "      <td>1</td>\n",
       "      <td>0</td>\n",
       "      <td>1</td>\n",
       "      <td>NO</td>\n",
       "    </tr>\n",
       "    <tr>\n",
       "      <th>1</th>\n",
       "      <td>37</td>\n",
       "      <td>1</td>\n",
       "      <td>2</td>\n",
       "      <td>130</td>\n",
       "      <td>250</td>\n",
       "      <td>0</td>\n",
       "      <td>1</td>\n",
       "      <td>187</td>\n",
       "      <td>0</td>\n",
       "      <td>3.5</td>\n",
       "      <td>0</td>\n",
       "      <td>0</td>\n",
       "      <td>2</td>\n",
       "      <td>3</td>\n",
       "      <td>0</td>\n",
       "      <td>9</td>\n",
       "      <td>NO</td>\n",
       "    </tr>\n",
       "    <tr>\n",
       "      <th>2</th>\n",
       "      <td>41</td>\n",
       "      <td>0</td>\n",
       "      <td>1</td>\n",
       "      <td>130</td>\n",
       "      <td>204</td>\n",
       "      <td>0</td>\n",
       "      <td>0</td>\n",
       "      <td>172</td>\n",
       "      <td>0</td>\n",
       "      <td>1.4</td>\n",
       "      <td>2</td>\n",
       "      <td>0</td>\n",
       "      <td>2</td>\n",
       "      <td>2</td>\n",
       "      <td>1</td>\n",
       "      <td>6</td>\n",
       "      <td>NO</td>\n",
       "    </tr>\n",
       "    <tr>\n",
       "      <th>3</th>\n",
       "      <td>56</td>\n",
       "      <td>1</td>\n",
       "      <td>1</td>\n",
       "      <td>120</td>\n",
       "      <td>236</td>\n",
       "      <td>0</td>\n",
       "      <td>1</td>\n",
       "      <td>178</td>\n",
       "      <td>0</td>\n",
       "      <td>0.8</td>\n",
       "      <td>2</td>\n",
       "      <td>0</td>\n",
       "      <td>2</td>\n",
       "      <td>2</td>\n",
       "      <td>0</td>\n",
       "      <td>7</td>\n",
       "      <td>NO</td>\n",
       "    </tr>\n",
       "    <tr>\n",
       "      <th>4</th>\n",
       "      <td>57</td>\n",
       "      <td>0</td>\n",
       "      <td>0</td>\n",
       "      <td>120</td>\n",
       "      <td>354</td>\n",
       "      <td>0</td>\n",
       "      <td>1</td>\n",
       "      <td>163</td>\n",
       "      <td>1</td>\n",
       "      <td>0.6</td>\n",
       "      <td>2</td>\n",
       "      <td>0</td>\n",
       "      <td>2</td>\n",
       "      <td>1</td>\n",
       "      <td>0</td>\n",
       "      <td>5</td>\n",
       "      <td>NO</td>\n",
       "    </tr>\n",
       "  </tbody>\n",
       "</table>\n",
       "</div>"
      ],
      "text/plain": [
       "   age  sex  cp  trestbps  chol  fbs  restecg  thalach  exang  oldpeak  slope  \\\n",
       "0   63    1   3       145   233    1        0      150      0      2.3      0   \n",
       "1   37    1   2       130   250    0        1      187      0      3.5      0   \n",
       "2   41    0   1       130   204    0        0      172      0      1.4      2   \n",
       "3   56    1   1       120   236    0        1      178      0      0.8      2   \n",
       "4   57    0   0       120   354    0        1      163      1      0.6      2   \n",
       "\n",
       "   ca  thal  time_in_hospital  number_inpatient  number_diagnoses readmitted  \n",
       "0   0     1                 1                 0                 1         NO  \n",
       "1   0     2                 3                 0                 9         NO  \n",
       "2   0     2                 2                 1                 6         NO  \n",
       "3   0     2                 2                 0                 7         NO  \n",
       "4   0     2                 1                 0                 5         NO  "
      ]
     },
     "execution_count": 582,
     "metadata": {},
     "output_type": "execute_result"
    }
   ],
   "source": [
    "dataset.head()"
   ]
  },
  {
   "cell_type": "code",
   "execution_count": 583,
   "metadata": {},
   "outputs": [
    {
     "data": {
      "text/plain": [
       "array([[63.,  1.,  3., ...,  1.,  0.,  1.],\n",
       "       [37.,  1.,  2., ...,  3.,  0.,  9.],\n",
       "       [41.,  0.,  1., ...,  2.,  1.,  6.],\n",
       "       ...,\n",
       "       [68.,  1.,  0., ...,  1.,  0.,  5.],\n",
       "       [57.,  1.,  0., ...,  8.,  0.,  5.],\n",
       "       [57.,  0.,  1., ...,  9.,  0.,  5.]])"
      ]
     },
     "execution_count": 583,
     "metadata": {},
     "output_type": "execute_result"
    }
   ],
   "source": [
    "x=dataset.iloc[:,0:16].values\n",
    "x"
   ]
  },
  {
   "cell_type": "code",
   "execution_count": 584,
   "metadata": {},
   "outputs": [
    {
     "data": {
      "text/plain": [
       "array([['NO'],\n",
       "       ['NO'],\n",
       "       ['NO'],\n",
       "       ['NO'],\n",
       "       ['NO'],\n",
       "       ['NO'],\n",
       "       ['NO'],\n",
       "       ['NO'],\n",
       "       ['NO'],\n",
       "       ['NO'],\n",
       "       ['NO'],\n",
       "       ['YES'],\n",
       "       ['YES'],\n",
       "       ['NO'],\n",
       "       ['NO'],\n",
       "       ['NO'],\n",
       "       ['YES'],\n",
       "       ['NO'],\n",
       "       ['NO'],\n",
       "       ['NO'],\n",
       "       ['NO'],\n",
       "       ['NO'],\n",
       "       ['NO'],\n",
       "       ['NO'],\n",
       "       ['NO'],\n",
       "       ['NO'],\n",
       "       ['NO'],\n",
       "       ['NO'],\n",
       "       ['NO'],\n",
       "       ['NO'],\n",
       "       ['NO'],\n",
       "       ['NO'],\n",
       "       ['NO'],\n",
       "       ['NO'],\n",
       "       ['NO'],\n",
       "       ['NO'],\n",
       "       ['NO'],\n",
       "       ['NO'],\n",
       "       ['NO'],\n",
       "       ['NO'],\n",
       "       ['NO'],\n",
       "       ['NO'],\n",
       "       ['NO'],\n",
       "       ['NO'],\n",
       "       ['NO'],\n",
       "       ['NO'],\n",
       "       ['YES'],\n",
       "       ['NO'],\n",
       "       ['NO'],\n",
       "       ['NO'],\n",
       "       ['YES'],\n",
       "       ['NO'],\n",
       "       ['NO'],\n",
       "       ['NO'],\n",
       "       ['NO'],\n",
       "       ['NO'],\n",
       "       ['NO'],\n",
       "       ['NO'],\n",
       "       ['NO'],\n",
       "       ['NO'],\n",
       "       ['NO'],\n",
       "       ['NO'],\n",
       "       ['NO'],\n",
       "       ['NO'],\n",
       "       ['NO'],\n",
       "       ['NO'],\n",
       "       ['NO'],\n",
       "       ['NO'],\n",
       "       ['YES'],\n",
       "       ['NO'],\n",
       "       ['YES'],\n",
       "       ['NO'],\n",
       "       ['NO'],\n",
       "       ['NO'],\n",
       "       ['NO'],\n",
       "       ['NO'],\n",
       "       ['NO'],\n",
       "       ['YES'],\n",
       "       ['NO'],\n",
       "       ['NO'],\n",
       "       ['NO'],\n",
       "       ['NO'],\n",
       "       ['NO'],\n",
       "       ['NO'],\n",
       "       ['NO'],\n",
       "       ['NO'],\n",
       "       ['NO'],\n",
       "       ['NO'],\n",
       "       ['NO'],\n",
       "       ['NO'],\n",
       "       ['NO'],\n",
       "       ['NO'],\n",
       "       ['NO'],\n",
       "       ['NO'],\n",
       "       ['NO'],\n",
       "       ['NO'],\n",
       "       ['NO'],\n",
       "       ['NO'],\n",
       "       ['NO'],\n",
       "       ['NO'],\n",
       "       ['NO'],\n",
       "       ['NO'],\n",
       "       ['NO'],\n",
       "       ['NO'],\n",
       "       ['NO'],\n",
       "       ['NO'],\n",
       "       ['NO'],\n",
       "       ['NO'],\n",
       "       ['NO'],\n",
       "       ['NO'],\n",
       "       ['NO'],\n",
       "       ['NO'],\n",
       "       ['NO'],\n",
       "       ['NO'],\n",
       "       ['YES'],\n",
       "       ['NO'],\n",
       "       ['YES'],\n",
       "       ['NO'],\n",
       "       ['NO'],\n",
       "       ['NO'],\n",
       "       ['NO'],\n",
       "       ['NO'],\n",
       "       ['NO'],\n",
       "       ['NO'],\n",
       "       ['NO'],\n",
       "       ['NO'],\n",
       "       ['NO'],\n",
       "       ['NO'],\n",
       "       ['NO'],\n",
       "       ['NO'],\n",
       "       ['NO'],\n",
       "       ['NO'],\n",
       "       ['NO'],\n",
       "       ['NO'],\n",
       "       ['NO'],\n",
       "       ['NO'],\n",
       "       ['YES'],\n",
       "       ['NO'],\n",
       "       ['NO'],\n",
       "       ['NO'],\n",
       "       ['NO'],\n",
       "       ['NO'],\n",
       "       ['NO'],\n",
       "       ['NO'],\n",
       "       ['NO'],\n",
       "       ['NO'],\n",
       "       ['NO'],\n",
       "       ['NO'],\n",
       "       ['NO'],\n",
       "       ['NO'],\n",
       "       ['NO'],\n",
       "       ['NO'],\n",
       "       ['NO'],\n",
       "       ['NO'],\n",
       "       ['NO'],\n",
       "       ['NO'],\n",
       "       ['NO'],\n",
       "       ['NO'],\n",
       "       ['NO'],\n",
       "       ['NO'],\n",
       "       ['YES'],\n",
       "       ['NO'],\n",
       "       ['YES'],\n",
       "       ['NO'],\n",
       "       ['NO'],\n",
       "       ['NO'],\n",
       "       ['NO'],\n",
       "       ['YES'],\n",
       "       ['NO'],\n",
       "       ['NO'],\n",
       "       ['NO'],\n",
       "       ['NO'],\n",
       "       ['YES'],\n",
       "       ['NO'],\n",
       "       ['NO'],\n",
       "       ['NO'],\n",
       "       ['NO'],\n",
       "       ['NO'],\n",
       "       ['NO'],\n",
       "       ['NO'],\n",
       "       ['NO'],\n",
       "       ['NO'],\n",
       "       ['NO'],\n",
       "       ['NO'],\n",
       "       ['NO'],\n",
       "       ['NO'],\n",
       "       ['NO'],\n",
       "       ['NO'],\n",
       "       ['NO'],\n",
       "       ['NO'],\n",
       "       ['NO'],\n",
       "       ['NO'],\n",
       "       ['NO'],\n",
       "       ['NO'],\n",
       "       ['NO'],\n",
       "       ['NO'],\n",
       "       ['NO'],\n",
       "       ['YES'],\n",
       "       ['NO'],\n",
       "       ['NO'],\n",
       "       ['NO'],\n",
       "       ['NO'],\n",
       "       ['NO'],\n",
       "       ['NO'],\n",
       "       ['NO'],\n",
       "       ['NO'],\n",
       "       ['NO'],\n",
       "       ['NO'],\n",
       "       ['NO'],\n",
       "       ['NO'],\n",
       "       ['NO'],\n",
       "       ['NO'],\n",
       "       ['NO'],\n",
       "       ['NO'],\n",
       "       ['NO'],\n",
       "       ['NO'],\n",
       "       ['NO'],\n",
       "       ['NO'],\n",
       "       ['NO'],\n",
       "       ['NO'],\n",
       "       ['YES'],\n",
       "       ['NO'],\n",
       "       ['YES'],\n",
       "       ['YES'],\n",
       "       ['NO'],\n",
       "       ['NO'],\n",
       "       ['NO'],\n",
       "       ['NO'],\n",
       "       ['NO'],\n",
       "       ['NO'],\n",
       "       ['NO'],\n",
       "       ['NO'],\n",
       "       ['YES'],\n",
       "       ['NO'],\n",
       "       ['NO'],\n",
       "       ['YES'],\n",
       "       ['NO'],\n",
       "       ['NO'],\n",
       "       ['NO'],\n",
       "       ['NO'],\n",
       "       ['YES'],\n",
       "       ['NO'],\n",
       "       ['NO'],\n",
       "       ['YES'],\n",
       "       ['NO'],\n",
       "       ['NO'],\n",
       "       ['YES'],\n",
       "       ['YES'],\n",
       "       ['NO'],\n",
       "       ['NO'],\n",
       "       ['NO'],\n",
       "       ['NO'],\n",
       "       ['NO'],\n",
       "       ['NO'],\n",
       "       ['NO'],\n",
       "       ['NO'],\n",
       "       ['NO'],\n",
       "       ['NO'],\n",
       "       ['NO'],\n",
       "       ['NO'],\n",
       "       ['NO'],\n",
       "       ['NO'],\n",
       "       ['NO'],\n",
       "       ['NO'],\n",
       "       ['NO'],\n",
       "       ['NO'],\n",
       "       ['NO'],\n",
       "       ['NO'],\n",
       "       ['NO'],\n",
       "       ['NO'],\n",
       "       ['NO'],\n",
       "       ['NO'],\n",
       "       ['NO'],\n",
       "       ['NO'],\n",
       "       ['NO'],\n",
       "       ['NO'],\n",
       "       ['NO'],\n",
       "       ['NO'],\n",
       "       ['NO'],\n",
       "       ['NO'],\n",
       "       ['NO'],\n",
       "       ['NO'],\n",
       "       ['NO'],\n",
       "       ['NO'],\n",
       "       ['NO'],\n",
       "       ['NO'],\n",
       "       ['NO'],\n",
       "       ['NO'],\n",
       "       ['NO'],\n",
       "       ['NO'],\n",
       "       ['NO'],\n",
       "       ['NO'],\n",
       "       ['NO'],\n",
       "       ['NO'],\n",
       "       ['NO'],\n",
       "       ['NO'],\n",
       "       ['NO'],\n",
       "       ['NO'],\n",
       "       ['NO'],\n",
       "       ['NO'],\n",
       "       ['NO'],\n",
       "       ['YES'],\n",
       "       ['NO']], dtype=object)"
      ]
     },
     "execution_count": 584,
     "metadata": {},
     "output_type": "execute_result"
    }
   ],
   "source": [
    "y=dataset.iloc[:,16:].values\n",
    "y"
   ]
  },
  {
   "cell_type": "code",
   "execution_count": 585,
   "metadata": {},
   "outputs": [],
   "source": [
    "from sklearn.preprocessing import LabelEncoder\n",
    "lb=LabelEncoder()"
   ]
  },
  {
   "cell_type": "code",
   "execution_count": 586,
   "metadata": {},
   "outputs": [
    {
     "data": {
      "text/plain": [
       "array([[29.,  1.,  3., ...,  1.,  0.,  1.],\n",
       "       [ 3.,  1.,  2., ...,  3.,  0.,  9.],\n",
       "       [ 7.,  0.,  1., ...,  2.,  1.,  6.],\n",
       "       ...,\n",
       "       [34.,  1.,  0., ...,  1.,  0.,  5.],\n",
       "       [23.,  1.,  0., ...,  8.,  0.,  5.],\n",
       "       [23.,  0.,  1., ...,  9.,  0.,  5.]])"
      ]
     },
     "execution_count": 586,
     "metadata": {},
     "output_type": "execute_result"
    }
   ],
   "source": [
    "x[:,0]=lb.fit_transform(x[:,0])\n",
    "x"
   ]
  },
  {
   "cell_type": "code",
   "execution_count": 587,
   "metadata": {},
   "outputs": [
    {
     "data": {
      "text/plain": [
       "array([[29.,  1.,  3., ...,  1.,  0.,  1.],\n",
       "       [ 3.,  1.,  2., ...,  3.,  0.,  9.],\n",
       "       [ 7.,  0.,  1., ...,  2.,  1.,  6.],\n",
       "       ...,\n",
       "       [34.,  1.,  0., ...,  1.,  0.,  5.],\n",
       "       [23.,  1.,  0., ...,  8.,  0.,  5.],\n",
       "       [23.,  0.,  1., ...,  9.,  0.,  5.]])"
      ]
     },
     "execution_count": 587,
     "metadata": {},
     "output_type": "execute_result"
    }
   ],
   "source": [
    "x[:,1]=lb.fit_transform(x[:,1])\n",
    "x"
   ]
  },
  {
   "cell_type": "code",
   "execution_count": 588,
   "metadata": {},
   "outputs": [
    {
     "data": {
      "text/plain": [
       "array([[29.,  1.,  3., ...,  1.,  0.,  1.],\n",
       "       [ 3.,  1.,  2., ...,  3.,  0.,  9.],\n",
       "       [ 7.,  0.,  1., ...,  2.,  1.,  6.],\n",
       "       ...,\n",
       "       [34.,  1.,  0., ...,  1.,  0.,  5.],\n",
       "       [23.,  1.,  0., ...,  8.,  0.,  5.],\n",
       "       [23.,  0.,  1., ...,  9.,  0.,  5.]])"
      ]
     },
     "execution_count": 588,
     "metadata": {},
     "output_type": "execute_result"
    }
   ],
   "source": [
    "x[:,2]=lb.fit_transform(x[:,2])\n",
    "x"
   ]
  },
  {
   "cell_type": "code",
   "execution_count": 589,
   "metadata": {},
   "outputs": [
    {
     "data": {
      "text/plain": [
       "array([[29.,  1.,  3., ...,  1.,  0.,  1.],\n",
       "       [ 3.,  1.,  2., ...,  3.,  0.,  9.],\n",
       "       [ 7.,  0.,  1., ...,  2.,  1.,  6.],\n",
       "       ...,\n",
       "       [34.,  1.,  0., ...,  1.,  0.,  5.],\n",
       "       [23.,  1.,  0., ...,  8.,  0.,  5.],\n",
       "       [23.,  0.,  1., ...,  9.,  0.,  5.]])"
      ]
     },
     "execution_count": 589,
     "metadata": {},
     "output_type": "execute_result"
    }
   ],
   "source": [
    "x[:,3]=lb.fit_transform(x[:,3])\n",
    "x"
   ]
  },
  {
   "cell_type": "code",
   "execution_count": 590,
   "metadata": {},
   "outputs": [
    {
     "data": {
      "text/plain": [
       "array([[29.,  1.,  3., ...,  1.,  0.,  1.],\n",
       "       [ 3.,  1.,  2., ...,  3.,  0.,  9.],\n",
       "       [ 7.,  0.,  1., ...,  2.,  1.,  6.],\n",
       "       ...,\n",
       "       [34.,  1.,  0., ...,  1.,  0.,  5.],\n",
       "       [23.,  1.,  0., ...,  8.,  0.,  5.],\n",
       "       [23.,  0.,  1., ...,  9.,  0.,  5.]])"
      ]
     },
     "execution_count": 590,
     "metadata": {},
     "output_type": "execute_result"
    }
   ],
   "source": [
    "x[:,4]=lb.fit_transform(x[:,4])\n",
    "x"
   ]
  },
  {
   "cell_type": "code",
   "execution_count": 591,
   "metadata": {},
   "outputs": [
    {
     "data": {
      "text/plain": [
       "array([[29.,  1.,  3., ...,  1.,  0.,  1.],\n",
       "       [ 3.,  1.,  2., ...,  3.,  0.,  9.],\n",
       "       [ 7.,  0.,  1., ...,  2.,  1.,  6.],\n",
       "       ...,\n",
       "       [34.,  1.,  0., ...,  1.,  0.,  5.],\n",
       "       [23.,  1.,  0., ...,  8.,  0.,  5.],\n",
       "       [23.,  0.,  1., ...,  9.,  0.,  5.]])"
      ]
     },
     "execution_count": 591,
     "metadata": {},
     "output_type": "execute_result"
    }
   ],
   "source": [
    "x[:,5]=lb.fit_transform(x[:,5])\n",
    "x"
   ]
  },
  {
   "cell_type": "code",
   "execution_count": 592,
   "metadata": {},
   "outputs": [
    {
     "data": {
      "text/plain": [
       "array([[29.,  1.,  3., ...,  1.,  0.,  1.],\n",
       "       [ 3.,  1.,  2., ...,  3.,  0.,  9.],\n",
       "       [ 7.,  0.,  1., ...,  2.,  1.,  6.],\n",
       "       ...,\n",
       "       [34.,  1.,  0., ...,  1.,  0.,  5.],\n",
       "       [23.,  1.,  0., ...,  8.,  0.,  5.],\n",
       "       [23.,  0.,  1., ...,  9.,  0.,  5.]])"
      ]
     },
     "execution_count": 592,
     "metadata": {},
     "output_type": "execute_result"
    }
   ],
   "source": [
    "x[:,6]=lb.fit_transform(x[:,6])\n",
    "x"
   ]
  },
  {
   "cell_type": "code",
   "execution_count": 593,
   "metadata": {},
   "outputs": [
    {
     "data": {
      "text/plain": [
       "array([[29.,  1.,  3., ...,  1.,  0.,  1.],\n",
       "       [ 3.,  1.,  2., ...,  3.,  0.,  9.],\n",
       "       [ 7.,  0.,  1., ...,  2.,  1.,  6.],\n",
       "       ...,\n",
       "       [34.,  1.,  0., ...,  1.,  0.,  5.],\n",
       "       [23.,  1.,  0., ...,  8.,  0.,  5.],\n",
       "       [23.,  0.,  1., ...,  9.,  0.,  5.]])"
      ]
     },
     "execution_count": 593,
     "metadata": {},
     "output_type": "execute_result"
    }
   ],
   "source": [
    "x[:,7]=lb.fit_transform(x[:,7])\n",
    "x"
   ]
  },
  {
   "cell_type": "code",
   "execution_count": 594,
   "metadata": {},
   "outputs": [
    {
     "data": {
      "text/plain": [
       "array([[29.,  1.,  3., ...,  1.,  0.,  1.],\n",
       "       [ 3.,  1.,  2., ...,  3.,  0.,  9.],\n",
       "       [ 7.,  0.,  1., ...,  2.,  1.,  6.],\n",
       "       ...,\n",
       "       [34.,  1.,  0., ...,  1.,  0.,  5.],\n",
       "       [23.,  1.,  0., ...,  8.,  0.,  5.],\n",
       "       [23.,  0.,  1., ...,  9.,  0.,  5.]])"
      ]
     },
     "execution_count": 594,
     "metadata": {},
     "output_type": "execute_result"
    }
   ],
   "source": [
    "x[:,8]=lb.fit_transform(x[:,8])\n",
    "x"
   ]
  },
  {
   "cell_type": "code",
   "execution_count": 595,
   "metadata": {},
   "outputs": [
    {
     "data": {
      "text/plain": [
       "array([[29.,  1.,  3., ...,  1.,  0.,  1.],\n",
       "       [ 3.,  1.,  2., ...,  3.,  0.,  9.],\n",
       "       [ 7.,  0.,  1., ...,  2.,  1.,  6.],\n",
       "       ...,\n",
       "       [34.,  1.,  0., ...,  1.,  0.,  5.],\n",
       "       [23.,  1.,  0., ...,  8.,  0.,  5.],\n",
       "       [23.,  0.,  1., ...,  9.,  0.,  5.]])"
      ]
     },
     "execution_count": 595,
     "metadata": {},
     "output_type": "execute_result"
    }
   ],
   "source": [
    "x[:,9]=lb.fit_transform(x[:,9])\n",
    "x"
   ]
  },
  {
   "cell_type": "code",
   "execution_count": 596,
   "metadata": {},
   "outputs": [
    {
     "data": {
      "text/plain": [
       "array([[29.,  1.,  3., ...,  1.,  0.,  1.],\n",
       "       [ 3.,  1.,  2., ...,  3.,  0.,  9.],\n",
       "       [ 7.,  0.,  1., ...,  2.,  1.,  6.],\n",
       "       ...,\n",
       "       [34.,  1.,  0., ...,  1.,  0.,  5.],\n",
       "       [23.,  1.,  0., ...,  8.,  0.,  5.],\n",
       "       [23.,  0.,  1., ...,  9.,  0.,  5.]])"
      ]
     },
     "execution_count": 596,
     "metadata": {},
     "output_type": "execute_result"
    }
   ],
   "source": [
    "x[:,10]=lb.fit_transform(x[:,10])\n",
    "x"
   ]
  },
  {
   "cell_type": "code",
   "execution_count": 597,
   "metadata": {},
   "outputs": [
    {
     "data": {
      "text/plain": [
       "array([[29.,  1.,  3., ...,  1.,  0.,  1.],\n",
       "       [ 3.,  1.,  2., ...,  3.,  0.,  9.],\n",
       "       [ 7.,  0.,  1., ...,  2.,  1.,  6.],\n",
       "       ...,\n",
       "       [34.,  1.,  0., ...,  1.,  0.,  5.],\n",
       "       [23.,  1.,  0., ...,  8.,  0.,  5.],\n",
       "       [23.,  0.,  1., ...,  9.,  0.,  5.]])"
      ]
     },
     "execution_count": 597,
     "metadata": {},
     "output_type": "execute_result"
    }
   ],
   "source": [
    "x[:,11]=lb.fit_transform(x[:,11])\n",
    "x"
   ]
  },
  {
   "cell_type": "code",
   "execution_count": 598,
   "metadata": {},
   "outputs": [
    {
     "data": {
      "text/plain": [
       "array([[29.,  1.,  3., ...,  1.,  0.,  1.],\n",
       "       [ 3.,  1.,  2., ...,  3.,  0.,  9.],\n",
       "       [ 7.,  0.,  1., ...,  2.,  1.,  6.],\n",
       "       ...,\n",
       "       [34.,  1.,  0., ...,  1.,  0.,  5.],\n",
       "       [23.,  1.,  0., ...,  8.,  0.,  5.],\n",
       "       [23.,  0.,  1., ...,  9.,  0.,  5.]])"
      ]
     },
     "execution_count": 598,
     "metadata": {},
     "output_type": "execute_result"
    }
   ],
   "source": [
    "x[:,12]=lb.fit_transform(x[:,12])\n",
    "x"
   ]
  },
  {
   "cell_type": "code",
   "execution_count": 599,
   "metadata": {},
   "outputs": [
    {
     "data": {
      "text/plain": [
       "array([[29.,  1.,  3., ...,  0.,  0.,  1.],\n",
       "       [ 3.,  1.,  2., ...,  2.,  0.,  9.],\n",
       "       [ 7.,  0.,  1., ...,  1.,  1.,  6.],\n",
       "       ...,\n",
       "       [34.,  1.,  0., ...,  0.,  0.,  5.],\n",
       "       [23.,  1.,  0., ...,  7.,  0.,  5.],\n",
       "       [23.,  0.,  1., ...,  8.,  0.,  5.]])"
      ]
     },
     "execution_count": 599,
     "metadata": {},
     "output_type": "execute_result"
    }
   ],
   "source": [
    "x[:,13]=lb.fit_transform(x[:,13])\n",
    "x"
   ]
  },
  {
   "cell_type": "code",
   "execution_count": 600,
   "metadata": {},
   "outputs": [
    {
     "data": {
      "text/plain": [
       "array([[29.,  1.,  3., ...,  0.,  0.,  1.],\n",
       "       [ 3.,  1.,  2., ...,  2.,  0.,  9.],\n",
       "       [ 7.,  0.,  1., ...,  1.,  1.,  6.],\n",
       "       ...,\n",
       "       [34.,  1.,  0., ...,  0.,  0.,  5.],\n",
       "       [23.,  1.,  0., ...,  7.,  0.,  5.],\n",
       "       [23.,  0.,  1., ...,  8.,  0.,  5.]])"
      ]
     },
     "execution_count": 600,
     "metadata": {},
     "output_type": "execute_result"
    }
   ],
   "source": [
    "x[:,14]=lb.fit_transform(x[:,14])\n",
    "x"
   ]
  },
  {
   "cell_type": "code",
   "execution_count": 601,
   "metadata": {},
   "outputs": [
    {
     "data": {
      "text/plain": [
       "array([[29.,  1.,  3., ...,  0.,  0.,  0.],\n",
       "       [ 3.,  1.,  2., ...,  2.,  0.,  8.],\n",
       "       [ 7.,  0.,  1., ...,  1.,  1.,  5.],\n",
       "       ...,\n",
       "       [34.,  1.,  0., ...,  0.,  0.,  4.],\n",
       "       [23.,  1.,  0., ...,  7.,  0.,  4.],\n",
       "       [23.,  0.,  1., ...,  8.,  0.,  4.]])"
      ]
     },
     "execution_count": 601,
     "metadata": {},
     "output_type": "execute_result"
    }
   ],
   "source": [
    "x[:,15]=lb.fit_transform(x[:,15])\n",
    "x"
   ]
  },
  {
   "cell_type": "code",
   "execution_count": 602,
   "metadata": {},
   "outputs": [
    {
     "name": "stderr",
     "output_type": "stream",
     "text": [
      "C:\\Users\\HP\\Anaconda3\\lib\\site-packages\\sklearn\\preprocessing\\label.py:235: DataConversionWarning: A column-vector y was passed when a 1d array was expected. Please change the shape of y to (n_samples, ), for example using ravel().\n",
      "  y = column_or_1d(y, warn=True)\n"
     ]
    },
    {
     "data": {
      "text/plain": [
       "array([0, 0, 0, 0, 0, 0, 0, 0, 0, 0, 0, 1, 1, 0, 0, 0, 1, 0, 0, 0, 0, 0,\n",
       "       0, 0, 0, 0, 0, 0, 0, 0, 0, 0, 0, 0, 0, 0, 0, 0, 0, 0, 0, 0, 0, 0,\n",
       "       0, 0, 1, 0, 0, 0, 1, 0, 0, 0, 0, 0, 0, 0, 0, 0, 0, 0, 0, 0, 0, 0,\n",
       "       0, 0, 1, 0, 1, 0, 0, 0, 0, 0, 0, 1, 0, 0, 0, 0, 0, 0, 0, 0, 0, 0,\n",
       "       0, 0, 0, 0, 0, 0, 0, 0, 0, 0, 0, 0, 0, 0, 0, 0, 0, 0, 0, 0, 0, 0,\n",
       "       0, 0, 0, 0, 1, 0, 1, 0, 0, 0, 0, 0, 0, 0, 0, 0, 0, 0, 0, 0, 0, 0,\n",
       "       0, 0, 0, 0, 1, 0, 0, 0, 0, 0, 0, 0, 0, 0, 0, 0, 0, 0, 0, 0, 0, 0,\n",
       "       0, 0, 0, 0, 0, 0, 1, 0, 1, 0, 0, 0, 0, 1, 0, 0, 0, 0, 1, 0, 0, 0,\n",
       "       0, 0, 0, 0, 0, 0, 0, 0, 0, 0, 0, 0, 0, 0, 0, 0, 0, 0, 0, 0, 0, 1,\n",
       "       0, 0, 0, 0, 0, 0, 0, 0, 0, 0, 0, 0, 0, 0, 0, 0, 0, 0, 0, 0, 0, 0,\n",
       "       1, 0, 1, 1, 0, 0, 0, 0, 0, 0, 0, 0, 1, 0, 0, 1, 0, 0, 0, 0, 1, 0,\n",
       "       0, 1, 0, 0, 1, 1, 0, 0, 0, 0, 0, 0, 0, 0, 0, 0, 0, 0, 0, 0, 0, 0,\n",
       "       0, 0, 0, 0, 0, 0, 0, 0, 0, 0, 0, 0, 0, 0, 0, 0, 0, 0, 0, 0, 0, 0,\n",
       "       0, 0, 0, 0, 0, 0, 0, 0, 0, 0, 0, 0, 0, 0, 0, 1, 0])"
      ]
     },
     "execution_count": 602,
     "metadata": {},
     "output_type": "execute_result"
    }
   ],
   "source": [
    "y=lb.fit_transform(y)\n",
    "y"
   ]
  },
  {
   "cell_type": "code",
   "execution_count": 603,
   "metadata": {},
   "outputs": [],
   "source": [
    "from sklearn.model_selection import train_test_split\n",
    "x_train,x_test,y_train,y_test=train_test_split(x,y,test_size=0.4,random_state=9)"
   ]
  },
  {
   "cell_type": "code",
   "execution_count": 604,
   "metadata": {},
   "outputs": [],
   "source": [
    "from sklearn.ensemble import RandomForestClassifier\n",
    "classifier = RandomForestClassifier(n_estimators=11,criterion='entropy',random_state=1)"
   ]
  },
  {
   "cell_type": "code",
   "execution_count": 605,
   "metadata": {},
   "outputs": [
    {
     "data": {
      "text/plain": [
       "RandomForestClassifier(bootstrap=True, class_weight=None, criterion='entropy',\n",
       "            max_depth=None, max_features='auto', max_leaf_nodes=None,\n",
       "            min_impurity_decrease=0.0, min_impurity_split=None,\n",
       "            min_samples_leaf=1, min_samples_split=2,\n",
       "            min_weight_fraction_leaf=0.0, n_estimators=11, n_jobs=None,\n",
       "            oob_score=False, random_state=1, verbose=0, warm_start=False)"
      ]
     },
     "execution_count": 605,
     "metadata": {},
     "output_type": "execute_result"
    }
   ],
   "source": [
    "classifier.fit(x_train,y_train)"
   ]
  },
  {
   "cell_type": "code",
   "execution_count": 606,
   "metadata": {},
   "outputs": [],
   "source": [
    "y_predict=classifier.predict(x_test)"
   ]
  },
  {
   "cell_type": "code",
   "execution_count": 607,
   "metadata": {},
   "outputs": [
    {
     "data": {
      "text/plain": [
       "array([1, 0, 0, 0, 0, 0, 0, 0, 0, 0, 0, 0, 0, 0, 0, 0, 0, 0, 0, 0, 0, 0,\n",
       "       0, 0, 0, 0, 0, 0, 0, 0, 0, 0, 0, 0, 0, 0, 0, 0, 0, 0, 0, 0, 0, 0,\n",
       "       0, 0, 0, 0, 0, 0, 0, 0, 0, 0, 0, 0, 0, 0, 0, 0, 0, 1, 0, 0, 0, 0,\n",
       "       0, 0, 0, 0, 0, 0, 0, 0, 0, 0, 0, 0, 0, 0, 0, 0, 0, 0, 0, 0, 0, 0,\n",
       "       0, 0, 0, 0, 0, 0, 0, 0, 0, 0, 0, 0, 0, 0, 0, 0, 0, 0, 0, 0, 0, 0,\n",
       "       0, 0, 0, 0, 0, 0, 0, 0, 0, 0, 0, 0])"
      ]
     },
     "execution_count": 607,
     "metadata": {},
     "output_type": "execute_result"
    }
   ],
   "source": [
    "y_predict"
   ]
  },
  {
   "cell_type": "code",
   "execution_count": 608,
   "metadata": {},
   "outputs": [
    {
     "data": {
      "text/plain": [
       "array([0])"
      ]
     },
     "execution_count": 608,
     "metadata": {},
     "output_type": "execute_result"
    }
   ],
   "source": [
    "classifier.predict([[44,1,1,120,263,0,1,173,0,0,2,0,35,8,0,1]])"
   ]
  },
  {
   "cell_type": "code",
   "execution_count": 609,
   "metadata": {},
   "outputs": [
    {
     "data": {
      "text/plain": [
       "0.9426229508196722"
      ]
     },
     "execution_count": 609,
     "metadata": {},
     "output_type": "execute_result"
    }
   ],
   "source": [
    "from sklearn.metrics import accuracy_score\n",
    "accuracy_score(y_test,y_predict)"
   ]
  },
  {
   "cell_type": "code",
   "execution_count": 610,
   "metadata": {},
   "outputs": [
    {
     "data": {
      "text/plain": [
       "array([[115,   2],\n",
       "       [  5,   0]], dtype=int64)"
      ]
     },
     "execution_count": 610,
     "metadata": {},
     "output_type": "execute_result"
    }
   ],
   "source": [
    "from sklearn.metrics import confusion_matrix\n",
    "cm=confusion_matrix(y_test,y_predict)\n",
    "cm"
   ]
  },
  {
   "cell_type": "code",
   "execution_count": 611,
   "metadata": {},
   "outputs": [
    {
     "data": {
      "text/plain": [
       "0.49145299145299143"
      ]
     },
     "execution_count": 611,
     "metadata": {},
     "output_type": "execute_result"
    }
   ],
   "source": [
    "import sklearn.metrics as metric\n",
    "fpr,tpr,threshold=metric.roc_curve(y_test,y_predict)\n",
    "roc_auc=metric.auc(fpr,tpr)\n",
    "roc_auc"
   ]
  },
  {
   "cell_type": "code",
   "execution_count": 612,
   "metadata": {},
   "outputs": [
    {
     "data": {
      "image/png": "[encoded data removed]",
      "text/plain": [
       "<Figure size 432x288 with 1 Axes>"
      ]
     },
     "metadata": {
      "needs_background": "light"
     },
     "output_type": "display_data"
    }
   ],
   "source": [
    "plot(fpr,tpr,label='AUC=%0.2f'%roc_auc)\n",
    "xlabel('FPR')\n",
    "ylabel('TPR')\n",
    "legend()\n",
    "show()"
   ]
  },
  {
   "cell_type": "code",
   "execution_count": null,
   "metadata": {},
   "outputs": [],
   "source": []
  }
 ],
 "metadata": {
  "kernelspec": {
   "display_name": "Python 3",
   "language": "python",
   "name": "python3"
  },
  "language_info": {
   "codemirror_mode": {
    "name": "ipython",
    "version": 3
   },
   "file_extension": ".py",
   "mimetype": "text/x-python",
   "name": "python",
   "nbconvert_exporter": "python",
   "pygments_lexer": "ipython3",
   "version": "3.7.3"
  }
 },
 "nbformat": 4,
 "nbformat_minor": 2
}
